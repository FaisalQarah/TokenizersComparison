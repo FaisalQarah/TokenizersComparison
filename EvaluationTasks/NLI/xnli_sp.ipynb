{
 "cells": [
  {
   "cell_type": "code",
   "execution_count": null,
   "id": "acbc5759-d6a9-4e7e-8f61-fcc84b69a8a7",
   "metadata": {},
   "outputs": [],
   "source": []
  },
  {
   "cell_type": "code",
   "execution_count": 1,
   "id": "fdae2e7c-370e-407c-a87a-2e61f782f399",
   "metadata": {},
   "outputs": [
    {
     "name": "stderr",
     "output_type": "stream",
     "text": [
      "2024-02-06 18:14:55.639497: I tensorflow/core/util/port.cc:110] oneDNN custom operations are on. You may see slightly different numerical results due to floating-point round-off errors from different computation orders. To turn them off, set the environment variable `TF_ENABLE_ONEDNN_OPTS=0`.\n",
      "2024-02-06 18:14:55.663089: I tensorflow/core/platform/cpu_feature_guard.cc:182] This TensorFlow binary is optimized to use available CPU instructions in performance-critical operations.\n",
      "To enable the following instructions: AVX2 AVX512F AVX512_VNNI AVX512_BF16 FMA, in other operations, rebuild TensorFlow with the appropriate compiler flags.\n",
      "2024-02-06 18:14:56.092875: W tensorflow/compiler/tf2tensorrt/utils/py_utils.cc:38] TF-TRT Warning: Could not find TensorRT\n"
     ]
    },
    {
     "name": "stdout",
     "output_type": "stream",
     "text": [
      "Unique Labels: {0, 1, 2}\n",
      "Number of Classes: 3\n"
     ]
    },
    {
     "name": "stderr",
     "output_type": "stream",
     "text": [
      "Some weights of BertForSequenceClassification were not initialized from the model checkpoint at faisalq/bert-base-arabic-senpiece and are newly initialized: ['classifier.bias', 'classifier.weight']\n",
      "You should probably TRAIN this model on a down-stream task to be able to use it for predictions and inference.\n"
     ]
    },
    {
     "data": {
      "application/vnd.jupyter.widget-view+json": {
       "model_id": "",
       "version_major": 2,
       "version_minor": 0
      },
      "text/plain": [
       "Map:   0%|          | 0/392702 [00:00<?, ? examples/s]"
      ]
     },
     "metadata": {},
     "output_type": "display_data"
    },
    {
     "data": {
      "application/vnd.jupyter.widget-view+json": {
       "model_id": "",
       "version_major": 2,
       "version_minor": 0
      },
      "text/plain": [
       "Map:   0%|          | 0/7500 [00:00<?, ? examples/s]"
      ]
     },
     "metadata": {},
     "output_type": "display_data"
    }
   ],
   "source": [
    "\n",
    "import os\n",
    "os.environ[\"CUDA_VISIBLE_DEVICES\"]=\"1\" \n",
    "\n",
    "from sklearn.metrics import classification_report\n",
    "from transformers import AutoTokenizer, BertForSequenceClassification\n",
    "from transformers import AutoTokenizer, Trainer, TrainingArguments\n",
    "from datasets import load_dataset, Dataset\n",
    "import numpy as np\n",
    "import pandas as pd\n",
    "from sklearn.metrics import accuracy_score, f1_score\n",
    "\n",
    "\n",
    "# the dataset downloaded directly from hf hub: https://huggingface.co/datasets/xnli/viewer/ar\n",
    "#issues when loading directly from hf\n",
    "\n",
    "df1 = pd.read_parquet('xnli_ar_dataset/train-00000-of-00001.parquet')\n",
    "df2 = pd.read_parquet('xnli_ar_dataset/validation-00000-of-00001.parquet')\n",
    "df3 = pd.read_parquet('xnli_ar_dataset/test-00000-of-00001.parquet')\n",
    "\n",
    "df = pd.concat([df3, df2], ignore_index=True)  # combine val and test ds for validation\n",
    "dataset_train = Dataset.from_pandas(df1)\n",
    "dataset_validation = Dataset.from_pandas(df)\n",
    "\n",
    "# Get the unique labels from the 'label' column\n",
    "unique_labels = set(dataset_train['label'])\n",
    "classes_num = len(unique_labels)\n",
    "\n",
    "print(f'Unique Labels: {unique_labels}')\n",
    "print(f'Number of Classes: {classes_num}')\n",
    "\n",
    "# url = 'faisalq/bert-base-arabic-wordpiece'\n",
    "url = 'faisalq/bert-base-arabic-senpiece'\n",
    "# url = 'faisalq/bert-base-arabic-bbpe'\n",
    "\n",
    "\n",
    "\n",
    "\n",
    "tokenizer = AutoTokenizer.from_pretrained(url)\n",
    "model = BertForSequenceClassification.from_pretrained(url,\n",
    "                                                      num_labels=classes_num).to('cuda')                                                 \n",
    "                                                     \n",
    "\n",
    "\n",
    "\n",
    "max_length = 128\n",
    "\n",
    "def preprocess_function(examples):\n",
    "    return tokenizer(examples['premise'], examples['hypothesis'], truncation=True, padding=\"max_length\",\n",
    "                    max_length=max_length)\n",
    "\n",
    "\n",
    "dataset_train = dataset_train.map(preprocess_function, batched=True)\n",
    "dataset_validation = dataset_validation.map(preprocess_function, batched=True)\n",
    "\n",
    "# Define the compute_metrics function for evaluation\n",
    "\n"
   ]
  },
  {
   "cell_type": "code",
   "execution_count": 2,
   "id": "f4cb5f2f-593a-4865-ab7e-8173a733f51b",
   "metadata": {},
   "outputs": [
    {
     "name": "stderr",
     "output_type": "stream",
     "text": [
      "/home/ffq/miniconda3/envs/p1/lib/python3.9/site-packages/transformers/optimization.py:411: FutureWarning: This implementation of AdamW is deprecated and will be removed in a future version. Use the PyTorch implementation torch.optim.AdamW instead, or set `no_deprecation_warning=True` to disable this warning\n",
      "  warnings.warn(\n"
     ]
    },
    {
     "data": {
      "text/html": [
       "\n",
       "    <div>\n",
       "      \n",
       "      <progress value='7670' max='7670' style='width:300px; height:20px; vertical-align: middle;'></progress>\n",
       "      [7670/7670 39:55, Epoch 5/5]\n",
       "    </div>\n",
       "    <table border=\"1\" class=\"dataframe\">\n",
       "  <thead>\n",
       " <tr style=\"text-align: left;\">\n",
       "      <th>Step</th>\n",
       "      <th>Training Loss</th>\n",
       "      <th>Validation Loss</th>\n",
       "      <th>Accuracy</th>\n",
       "      <th>F1 Score</th>\n",
       "    </tr>\n",
       "  </thead>\n",
       "  <tbody>\n",
       "    <tr>\n",
       "      <td>500</td>\n",
       "      <td>No log</td>\n",
       "      <td>0.711027</td>\n",
       "      <td>0.692800</td>\n",
       "      <td>0.693093</td>\n",
       "    </tr>\n",
       "    <tr>\n",
       "      <td>1000</td>\n",
       "      <td>0.774000</td>\n",
       "      <td>0.698402</td>\n",
       "      <td>0.698400</td>\n",
       "      <td>0.698177</td>\n",
       "    </tr>\n",
       "    <tr>\n",
       "      <td>1500</td>\n",
       "      <td>0.774000</td>\n",
       "      <td>0.666126</td>\n",
       "      <td>0.715600</td>\n",
       "      <td>0.715370</td>\n",
       "    </tr>\n",
       "    <tr>\n",
       "      <td>2000</td>\n",
       "      <td>0.622700</td>\n",
       "      <td>0.641313</td>\n",
       "      <td>0.740933</td>\n",
       "      <td>0.740978</td>\n",
       "    </tr>\n",
       "    <tr>\n",
       "      <td>2500</td>\n",
       "      <td>0.622700</td>\n",
       "      <td>0.640308</td>\n",
       "      <td>0.738400</td>\n",
       "      <td>0.738339</td>\n",
       "    </tr>\n",
       "    <tr>\n",
       "      <td>3000</td>\n",
       "      <td>0.565000</td>\n",
       "      <td>0.620809</td>\n",
       "      <td>0.742800</td>\n",
       "      <td>0.743750</td>\n",
       "    </tr>\n",
       "    <tr>\n",
       "      <td>3500</td>\n",
       "      <td>0.565000</td>\n",
       "      <td>0.687721</td>\n",
       "      <td>0.731200</td>\n",
       "      <td>0.732152</td>\n",
       "    </tr>\n",
       "    <tr>\n",
       "      <td>4000</td>\n",
       "      <td>0.453300</td>\n",
       "      <td>0.687046</td>\n",
       "      <td>0.736400</td>\n",
       "      <td>0.736065</td>\n",
       "    </tr>\n",
       "    <tr>\n",
       "      <td>4500</td>\n",
       "      <td>0.453300</td>\n",
       "      <td>0.658012</td>\n",
       "      <td>0.745333</td>\n",
       "      <td>0.745429</td>\n",
       "    </tr>\n",
       "    <tr>\n",
       "      <td>5000</td>\n",
       "      <td>0.406600</td>\n",
       "      <td>0.762722</td>\n",
       "      <td>0.733867</td>\n",
       "      <td>0.733277</td>\n",
       "    </tr>\n",
       "    <tr>\n",
       "      <td>5500</td>\n",
       "      <td>0.406600</td>\n",
       "      <td>0.741279</td>\n",
       "      <td>0.740533</td>\n",
       "      <td>0.740600</td>\n",
       "    </tr>\n",
       "    <tr>\n",
       "      <td>6000</td>\n",
       "      <td>0.351600</td>\n",
       "      <td>0.751729</td>\n",
       "      <td>0.742533</td>\n",
       "      <td>0.742509</td>\n",
       "    </tr>\n",
       "    <tr>\n",
       "      <td>6500</td>\n",
       "      <td>0.351600</td>\n",
       "      <td>0.816205</td>\n",
       "      <td>0.741200</td>\n",
       "      <td>0.741783</td>\n",
       "    </tr>\n",
       "    <tr>\n",
       "      <td>7000</td>\n",
       "      <td>0.289500</td>\n",
       "      <td>0.820535</td>\n",
       "      <td>0.738267</td>\n",
       "      <td>0.738188</td>\n",
       "    </tr>\n",
       "    <tr>\n",
       "      <td>7500</td>\n",
       "      <td>0.289500</td>\n",
       "      <td>0.831178</td>\n",
       "      <td>0.739867</td>\n",
       "      <td>0.739768</td>\n",
       "    </tr>\n",
       "  </tbody>\n",
       "</table><p>"
      ],
      "text/plain": [
       "<IPython.core.display.HTML object>"
      ]
     },
     "metadata": {},
     "output_type": "display_data"
    },
    {
     "data": {
      "text/html": [
       "\n",
       "    <div>\n",
       "      \n",
       "      <progress value='30' max='30' style='width:300px; height:20px; vertical-align: middle;'></progress>\n",
       "      [30/30 00:03]\n",
       "    </div>\n",
       "    "
      ],
      "text/plain": [
       "<IPython.core.display.HTML object>"
      ]
     },
     "metadata": {},
     "output_type": "display_data"
    },
    {
     "data": {
      "text/plain": [
       "{'eval_loss': 0.8293928503990173,\n",
       " 'eval_accuracy': 0.7402666666666666,\n",
       " 'eval_f1_score': 0.7403023960870224,\n",
       " 'eval_runtime': 3.1744,\n",
       " 'eval_samples_per_second': 2362.686,\n",
       " 'eval_steps_per_second': 9.451,\n",
       " 'epoch': 5.0}"
      ]
     },
     "execution_count": 2,
     "metadata": {},
     "output_type": "execute_result"
    }
   ],
   "source": [
    "def compute_metrics(eval_pred):\n",
    "    logits, labels = eval_pred\n",
    "    predictions = np.argmax(logits, axis=-1)    \n",
    "    acc = accuracy_score(labels, predictions)        \n",
    "    f1 = f1_score(labels, predictions, average='macro')      \n",
    "    return {'accuracy': acc, 'f1_score': f1}\n",
    "\n",
    "\n",
    "epochs = 5\n",
    "save_steps = 10000 #save checkpoint every 10000 steps\n",
    "batch_size = 256\n",
    "\n",
    "\n",
    "training_args = TrainingArguments(\n",
    "    output_dir = 'bert_sp/',\n",
    "    overwrite_output_dir=True,\n",
    "    num_train_epochs = epochs,\n",
    "    per_device_train_batch_size = batch_size,\n",
    "    per_device_eval_batch_size = batch_size,\n",
    "    save_steps = save_steps,\n",
    "    save_total_limit = 2, \n",
    "    fp16=True,\n",
    "    learning_rate = 5e-5,  # 5e-5 is the default\n",
    "    # weight_decay=0.01,\n",
    "    logging_steps = 1000, #50_000\n",
    "    evaluation_strategy = 'steps',\n",
    "    eval_steps = 500\n",
    "    \n",
    ")\n",
    "\n",
    "\n",
    "\n",
    "\n",
    "# Initialize the Trainer\n",
    "trainer = Trainer(\n",
    "    model=model,\n",
    "    args=training_args,\n",
    "    train_dataset=dataset_train,\n",
    "    eval_dataset=dataset_validation,\n",
    "    compute_metrics=compute_metrics,\n",
    ")\n",
    "\n",
    "# Train the model\n",
    "trainer.train()\n",
    "\n",
    "# Evaluate the model\n",
    "trainer.evaluate()\n"
   ]
  },
  {
   "cell_type": "code",
   "execution_count": null,
   "id": "b11b9dbf-07a9-46de-a5db-bb416dcca6d8",
   "metadata": {},
   "outputs": [],
   "source": []
  },
  {
   "cell_type": "code",
   "execution_count": null,
   "id": "c43aa7fb-c909-41ac-a427-e2a499c8df9b",
   "metadata": {},
   "outputs": [],
   "source": []
  },
  {
   "cell_type": "code",
   "execution_count": null,
   "id": "e2c30df8-1cf0-4ad2-bbfe-8b16c80b0c53",
   "metadata": {},
   "outputs": [],
   "source": []
  },
  {
   "cell_type": "code",
   "execution_count": null,
   "id": "5dc6149d-6e22-4457-8143-fa393ccd011f",
   "metadata": {},
   "outputs": [],
   "source": []
  },
  {
   "cell_type": "code",
   "execution_count": null,
   "id": "9e8ecbf0-c481-4f21-b7c8-c4d896640e6b",
   "metadata": {},
   "outputs": [],
   "source": []
  },
  {
   "cell_type": "code",
   "execution_count": null,
   "id": "df1de169-cbd8-4f8e-b172-61a5eb8aa60d",
   "metadata": {},
   "outputs": [],
   "source": []
  }
 ],
 "metadata": {
  "kernelspec": {
   "display_name": "Python 3 (ipykernel)",
   "language": "python",
   "name": "python3"
  },
  "language_info": {
   "codemirror_mode": {
    "name": "ipython",
    "version": 3
   },
   "file_extension": ".py",
   "mimetype": "text/x-python",
   "name": "python",
   "nbconvert_exporter": "python",
   "pygments_lexer": "ipython3",
   "version": "3.9.16"
  }
 },
 "nbformat": 4,
 "nbformat_minor": 5
}
